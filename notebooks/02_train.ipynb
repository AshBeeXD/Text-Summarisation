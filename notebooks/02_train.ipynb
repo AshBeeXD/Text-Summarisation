{
 "cells": [
  {
   "cell_type": "markdown",
   "id": "5e779e07-e06f-464e-b142-35568baf5841",
   "metadata": {},
   "source": [
    "**Importing necessary libraries such as os, datasets, and Hugging Face components like AutoModelForSeq2SeqLM, Seq2SeqTrainer, and other utilities needed for model training and evaluation.**"
   ]
  },
  {
   "cell_type": "code",
   "execution_count": 1,
   "id": "cbbc2c44-72c9-491d-9aea-9205efec689b",
   "metadata": {},
   "outputs": [],
   "source": [
    "import os\n",
    "import sys\n",
    "sys.path.append(os.path.abspath(os.path.join(os.getcwd(), \"..\")))\n",
    "\n",
    "from datasets import load_from_disk\n",
    "from transformers import (\n",
    "    AutoModelForSeq2SeqLM, AutoTokenizer,\n",
    "    Seq2SeqTrainer, Seq2SeqTrainingArguments,\n",
    "    DataCollatorForSeq2Seq, GenerationConfig\n",
    ")\n",
    "\n",
    "from src.train import get_training_args\n",
    "from src.evaluate import build_compute_metrics"
   ]
  },
  {
   "cell_type": "markdown",
   "id": "322c3e1d-2ff0-4fac-90f9-de3bb61ae2e2",
   "metadata": {},
   "source": [
    "**Loading the pre-saved train, validation, and test datasets from disk and printing their sizes to verify proper loading.**"
   ]
  },
  {
   "cell_type": "code",
   "execution_count": 2,
   "id": "3dd1c361-7543-4263-8f95-c048da75d038",
   "metadata": {},
   "outputs": [
    {
     "name": "stdout",
     "output_type": "stream",
     "text": [
      "Loading datasets...\n",
      "Dataset sizes - Train: 7000, Val: 1500, Test: 1500\n"
     ]
    }
   ],
   "source": [
    "print(\"Loading datasets...\")\n",
    "train_dataset = load_from_disk(\"../data/train\")\n",
    "val_dataset = load_from_disk(\"../data/val\")\n",
    "test_dataset = load_from_disk(\"../data/test\")\n",
    "\n",
    "print(f\"Dataset sizes - Train: {len(train_dataset)}, Val: {len(val_dataset)}, Test: {len(test_dataset)}\")"
   ]
  },
  {
   "cell_type": "markdown",
   "id": "a37db6ee-c85c-4a89-9682-50fc014196d2",
   "metadata": {},
   "source": [
    "**Loading the facebook/bart-base model and tokenizer using the transformers library, and moving the model to the CPU.**"
   ]
  },
  {
   "cell_type": "code",
   "execution_count": 3,
   "id": "21a7ead5-6475-4653-9fc5-bf61a3ed4fc9",
   "metadata": {},
   "outputs": [
    {
     "data": {
      "text/plain": [
       "BartForConditionalGeneration(\n",
       "  (model): BartModel(\n",
       "    (shared): BartScaledWordEmbedding(50265, 768, padding_idx=1)\n",
       "    (encoder): BartEncoder(\n",
       "      (embed_tokens): BartScaledWordEmbedding(50265, 768, padding_idx=1)\n",
       "      (embed_positions): BartLearnedPositionalEmbedding(1026, 768)\n",
       "      (layers): ModuleList(\n",
       "        (0-5): 6 x BartEncoderLayer(\n",
       "          (self_attn): BartSdpaAttention(\n",
       "            (k_proj): Linear(in_features=768, out_features=768, bias=True)\n",
       "            (v_proj): Linear(in_features=768, out_features=768, bias=True)\n",
       "            (q_proj): Linear(in_features=768, out_features=768, bias=True)\n",
       "            (out_proj): Linear(in_features=768, out_features=768, bias=True)\n",
       "          )\n",
       "          (self_attn_layer_norm): LayerNorm((768,), eps=1e-05, elementwise_affine=True)\n",
       "          (activation_fn): GELUActivation()\n",
       "          (fc1): Linear(in_features=768, out_features=3072, bias=True)\n",
       "          (fc2): Linear(in_features=3072, out_features=768, bias=True)\n",
       "          (final_layer_norm): LayerNorm((768,), eps=1e-05, elementwise_affine=True)\n",
       "        )\n",
       "      )\n",
       "      (layernorm_embedding): LayerNorm((768,), eps=1e-05, elementwise_affine=True)\n",
       "    )\n",
       "    (decoder): BartDecoder(\n",
       "      (embed_tokens): BartScaledWordEmbedding(50265, 768, padding_idx=1)\n",
       "      (embed_positions): BartLearnedPositionalEmbedding(1026, 768)\n",
       "      (layers): ModuleList(\n",
       "        (0-5): 6 x BartDecoderLayer(\n",
       "          (self_attn): BartSdpaAttention(\n",
       "            (k_proj): Linear(in_features=768, out_features=768, bias=True)\n",
       "            (v_proj): Linear(in_features=768, out_features=768, bias=True)\n",
       "            (q_proj): Linear(in_features=768, out_features=768, bias=True)\n",
       "            (out_proj): Linear(in_features=768, out_features=768, bias=True)\n",
       "          )\n",
       "          (activation_fn): GELUActivation()\n",
       "          (self_attn_layer_norm): LayerNorm((768,), eps=1e-05, elementwise_affine=True)\n",
       "          (encoder_attn): BartSdpaAttention(\n",
       "            (k_proj): Linear(in_features=768, out_features=768, bias=True)\n",
       "            (v_proj): Linear(in_features=768, out_features=768, bias=True)\n",
       "            (q_proj): Linear(in_features=768, out_features=768, bias=True)\n",
       "            (out_proj): Linear(in_features=768, out_features=768, bias=True)\n",
       "          )\n",
       "          (encoder_attn_layer_norm): LayerNorm((768,), eps=1e-05, elementwise_affine=True)\n",
       "          (fc1): Linear(in_features=768, out_features=3072, bias=True)\n",
       "          (fc2): Linear(in_features=3072, out_features=768, bias=True)\n",
       "          (final_layer_norm): LayerNorm((768,), eps=1e-05, elementwise_affine=True)\n",
       "        )\n",
       "      )\n",
       "      (layernorm_embedding): LayerNorm((768,), eps=1e-05, elementwise_affine=True)\n",
       "    )\n",
       "  )\n",
       "  (lm_head): Linear(in_features=768, out_features=50265, bias=False)\n",
       ")"
      ]
     },
     "execution_count": 3,
     "metadata": {},
     "output_type": "execute_result"
    }
   ],
   "source": [
    "model_name = \"facebook/bart-base\"\n",
    "tokenizer = AutoTokenizer.from_pretrained(model_name)\n",
    "model = AutoModelForSeq2SeqLM.from_pretrained(model_name)\n",
    "import torch\n",
    "device = torch.device(\"cpu\")\n",
    "model.to(device)"
   ]
  },
  {
   "cell_type": "markdown",
   "id": "92e0e7a5-96e6-4b15-aad9-6bf955897080",
   "metadata": {},
   "source": [
    "**Setting generation parameters for the model (e.g., max token length, beam search, repetition penalty) and assigning it to the model’s generation_config.**"
   ]
  },
  {
   "cell_type": "code",
   "execution_count": 4,
   "id": "4d2d456d-0732-4ea9-aa97-e432dd0a26a3",
   "metadata": {},
   "outputs": [],
   "source": [
    "gen_config = GenerationConfig(\n",
    "    max_new_tokens=64,\n",
    "    early_stopping=True,\n",
    "    num_beams=4,\n",
    "    no_repeat_ngram_size=3,\n",
    "    forced_bos_token_id=0,\n",
    "    decoder_start_token_id=tokenizer.bos_token_id\n",
    ")\n",
    "model.generation_config = gen_config"
   ]
  },
  {
   "cell_type": "markdown",
   "id": "48bc7413-4f1b-4e3a-8644-a46f6651148e",
   "metadata": {},
   "source": [
    "**Defining training arguments, preparing data collator and metric function, and initializing a Seq2SeqTrainer object with model, datasets, and configurations.**"
   ]
  },
  {
   "cell_type": "code",
   "execution_count": 5,
   "id": "d8383f30-2aec-4ade-b37f-471a72084171",
   "metadata": {},
   "outputs": [
    {
     "name": "stderr",
     "output_type": "stream",
     "text": [
      "/tmp/ipykernel_3420361/2360191889.py:8: FutureWarning: `tokenizer` is deprecated and will be removed in version 5.0.0 for `Seq2SeqTrainer.__init__`. Use `processing_class` instead.\n",
      "  trainer = Seq2SeqTrainer(\n",
      "Detected kernel version 4.18.0, which is below the recommended minimum of 5.5.0; this can cause the process to hang. It is recommended to upgrade the kernel to the minimum version or higher.\n"
     ]
    }
   ],
   "source": [
    "output_dir = \"../outputs/model\"\n",
    "training_args = get_training_args(output_dir)\n",
    "\n",
    "data_collator = DataCollatorForSeq2Seq(tokenizer=tokenizer, model=model)\n",
    "\n",
    "compute_metrics = build_compute_metrics(tokenizer)\n",
    "\n",
    "trainer = Seq2SeqTrainer(\n",
    "    model=model,\n",
    "    args=training_args,\n",
    "    train_dataset=train_dataset,\n",
    "    eval_dataset=val_dataset,\n",
    "    tokenizer=tokenizer,\n",
    "    data_collator=data_collator,\n",
    "    compute_metrics=compute_metrics\n",
    ")"
   ]
  },
  {
   "cell_type": "markdown",
   "id": "dd5115ea-46d7-4485-96d1-e9878fe57c82",
   "metadata": {},
   "source": [
    "**Setting verbosity and starting training the model using trainer.train(), displaying metrics such as loss and ROUGE scores for each epoch.**"
   ]
  },
  {
   "cell_type": "code",
   "execution_count": 6,
   "id": "cd84a6df-bbb2-4887-ba9d-05ddf9548e22",
   "metadata": {},
   "outputs": [
    {
     "name": "stderr",
     "output_type": "stream",
     "text": [
      "***** Running training *****\n",
      "  Num examples = 7,000\n",
      "  Num Epochs = 3\n",
      "  Instantaneous batch size per device = 2\n",
      "  Total train batch size (w. parallel, distributed & accumulation) = 2\n",
      "  Gradient Accumulation steps = 1\n",
      "  Total optimization steps = 10,500\n",
      "  Number of trainable parameters = 139,420,416\n"
     ]
    },
    {
     "name": "stdout",
     "output_type": "stream",
     "text": [
      "Starting training with progress bars...\n"
     ]
    },
    {
     "data": {
      "text/html": [
       "\n",
       "    <div>\n",
       "      \n",
       "      <progress value='10500' max='10500' style='width:300px; height:20px; vertical-align: middle;'></progress>\n",
       "      [10500/10500 35:48, Epoch 3/3]\n",
       "    </div>\n",
       "    <table border=\"1\" class=\"dataframe\">\n",
       "  <thead>\n",
       " <tr style=\"text-align: left;\">\n",
       "      <th>Epoch</th>\n",
       "      <th>Training Loss</th>\n",
       "      <th>Validation Loss</th>\n",
       "      <th>Rouge1</th>\n",
       "      <th>Rouge2</th>\n",
       "      <th>Rougel</th>\n",
       "      <th>Rougelsum</th>\n",
       "    </tr>\n",
       "  </thead>\n",
       "  <tbody>\n",
       "    <tr>\n",
       "      <td>1</td>\n",
       "      <td>0.697200</td>\n",
       "      <td>0.540250</td>\n",
       "      <td>37.840000</td>\n",
       "      <td>15.700000</td>\n",
       "      <td>25.710000</td>\n",
       "      <td>34.880000</td>\n",
       "    </tr>\n",
       "    <tr>\n",
       "      <td>2</td>\n",
       "      <td>0.485600</td>\n",
       "      <td>0.528412</td>\n",
       "      <td>37.740000</td>\n",
       "      <td>15.910000</td>\n",
       "      <td>26.000000</td>\n",
       "      <td>34.880000</td>\n",
       "    </tr>\n",
       "    <tr>\n",
       "      <td>3</td>\n",
       "      <td>0.402500</td>\n",
       "      <td>0.530186</td>\n",
       "      <td>38.360000</td>\n",
       "      <td>16.380000</td>\n",
       "      <td>26.340000</td>\n",
       "      <td>35.430000</td>\n",
       "    </tr>\n",
       "  </tbody>\n",
       "</table><p>"
      ],
      "text/plain": [
       "<IPython.core.display.HTML object>"
      ]
     },
     "metadata": {},
     "output_type": "display_data"
    },
    {
     "name": "stderr",
     "output_type": "stream",
     "text": [
      "\n",
      "***** Running Evaluation *****\n",
      "  Num examples = 1500\n",
      "  Batch size = 2\n",
      "Saving model checkpoint to ../outputs/model/checkpoint-3500\n",
      "/home/ashwin/.local/lib/python3.8/site-packages/transformers/modeling_utils.py:2817: UserWarning: Moving the following attributes in the config to the generation config: {'early_stopping': True, 'num_beams': 4, 'no_repeat_ngram_size': 3, 'forced_bos_token_id': 0}. You are seeing this warning because you've set generation parameters in the model config, as opposed to in the generation config.\n",
      "  warnings.warn(\n",
      "Configuration saved in ../outputs/model/checkpoint-3500/config.json\n",
      "Configuration saved in ../outputs/model/checkpoint-3500/generation_config.json\n",
      "Model weights saved in ../outputs/model/checkpoint-3500/model.safetensors\n",
      "tokenizer config file saved in ../outputs/model/checkpoint-3500/tokenizer_config.json\n",
      "Special tokens file saved in ../outputs/model/checkpoint-3500/special_tokens_map.json\n",
      "\n",
      "***** Running Evaluation *****\n",
      "  Num examples = 1500\n",
      "  Batch size = 2\n",
      "Saving model checkpoint to ../outputs/model/checkpoint-7000\n",
      "Configuration saved in ../outputs/model/checkpoint-7000/config.json\n",
      "Configuration saved in ../outputs/model/checkpoint-7000/generation_config.json\n",
      "Model weights saved in ../outputs/model/checkpoint-7000/model.safetensors\n",
      "tokenizer config file saved in ../outputs/model/checkpoint-7000/tokenizer_config.json\n",
      "Special tokens file saved in ../outputs/model/checkpoint-7000/special_tokens_map.json\n",
      "Saving model checkpoint to ../outputs/model/checkpoint-10500\n",
      "Configuration saved in ../outputs/model/checkpoint-10500/config.json\n",
      "Configuration saved in ../outputs/model/checkpoint-10500/generation_config.json\n",
      "Model weights saved in ../outputs/model/checkpoint-10500/model.safetensors\n",
      "tokenizer config file saved in ../outputs/model/checkpoint-10500/tokenizer_config.json\n",
      "Special tokens file saved in ../outputs/model/checkpoint-10500/special_tokens_map.json\n",
      "Deleting older checkpoint [../outputs/model/checkpoint-3500] due to args.save_total_limit\n",
      "\n",
      "***** Running Evaluation *****\n",
      "  Num examples = 1500\n",
      "  Batch size = 2\n",
      "Saving model checkpoint to ../outputs/model/checkpoint-10500\n",
      "Configuration saved in ../outputs/model/checkpoint-10500/config.json\n",
      "Configuration saved in ../outputs/model/checkpoint-10500/generation_config.json\n",
      "Model weights saved in ../outputs/model/checkpoint-10500/model.safetensors\n",
      "tokenizer config file saved in ../outputs/model/checkpoint-10500/tokenizer_config.json\n",
      "Special tokens file saved in ../outputs/model/checkpoint-10500/special_tokens_map.json\n",
      "\n",
      "\n",
      "Training completed. Do not forget to share your model on huggingface.co/models =)\n",
      "\n",
      "\n",
      "Loading best model from ../outputs/model/checkpoint-10500 (score: 26.34).\n",
      "There were missing keys in the checkpoint model loaded: ['model.encoder.embed_tokens.weight', 'model.decoder.embed_tokens.weight', 'lm_head.weight'].\n"
     ]
    },
    {
     "data": {
      "text/plain": [
       "TrainOutput(global_step=10500, training_loss=0.5284185965401785, metrics={'train_runtime': 2148.9134, 'train_samples_per_second': 9.772, 'train_steps_per_second': 4.886, 'total_flos': 1.280446562304e+16, 'train_loss': 0.5284185965401785, 'epoch': 3.0})"
      ]
     },
     "execution_count": 6,
     "metadata": {},
     "output_type": "execute_result"
    }
   ],
   "source": [
    "from transformers.utils import logging\n",
    "logging.set_verbosity_info()\n",
    "print(\"Starting training with progress bars...\")\n",
    "\n",
    "trainer.train()"
   ]
  },
  {
   "cell_type": "markdown",
   "id": "e827d35b-cc66-49fe-af1d-a7128a9de885",
   "metadata": {},
   "source": [
    "**Saving the trained model and tokenizer to the specified output directory for later use or deployment.**"
   ]
  },
  {
   "cell_type": "code",
   "execution_count": 7,
   "id": "5d60f9e9-0eae-40ed-9490-716456e2584d",
   "metadata": {},
   "outputs": [
    {
     "name": "stderr",
     "output_type": "stream",
     "text": [
      "Configuration saved in ../outputs/model/config.json\n",
      "Configuration saved in ../outputs/model/generation_config.json\n"
     ]
    },
    {
     "name": "stdout",
     "output_type": "stream",
     "text": [
      "Saving model and tokenizer...\n"
     ]
    },
    {
     "name": "stderr",
     "output_type": "stream",
     "text": [
      "Model weights saved in ../outputs/model/model.safetensors\n",
      "tokenizer config file saved in ../outputs/model/tokenizer_config.json\n",
      "Special tokens file saved in ../outputs/model/special_tokens_map.json\n"
     ]
    },
    {
     "name": "stdout",
     "output_type": "stream",
     "text": [
      "Done.\n"
     ]
    }
   ],
   "source": [
    "print(\"Saving model and tokenizer...\")\n",
    "model.save_pretrained(output_dir)\n",
    "tokenizer.save_pretrained(output_dir)\n",
    "print(\"Done.\")"
   ]
  }
 ],
 "metadata": {
  "kernelspec": {
   "display_name": "Python 3 (ipykernel)",
   "language": "python",
   "name": "python3"
  },
  "language_info": {
   "codemirror_mode": {
    "name": "ipython",
    "version": 3
   },
   "file_extension": ".py",
   "mimetype": "text/x-python",
   "name": "python",
   "nbconvert_exporter": "python",
   "pygments_lexer": "ipython3",
   "version": "3.12.2"
  }
 },
 "nbformat": 4,
 "nbformat_minor": 5
}
