{
 "cells": [
  {
   "cell_type": "markdown",
   "id": "cc754b38-680b-4890-99f1-cfb9aab16552",
   "metadata": {},
   "source": [
    "**Importing essential libraries like Transformers, Evaluate, TQDM, Pandas, and Matplotlib for model evaluation.**"
   ]
  },
  {
   "cell_type": "code",
   "execution_count": 1,
   "id": "3181fe73-0138-49b3-8ebb-90b79ae6f5b3",
   "metadata": {},
   "outputs": [],
   "source": [
    "import os\n",
    "import sys\n",
    "sys.path.append(os.path.abspath(os.path.join(os.getcwd(), \"..\")))\n",
    "from transformers import AutoModelForSeq2SeqLM, AutoTokenizer\n",
    "from datasets import load_from_disk\n",
    "import evaluate\n",
    "from tqdm import tqdm\n",
    "import pandas as pd\n",
    "import matplotlib.pyplot as plt"
   ]
  },
  {
   "cell_type": "markdown",
   "id": "c20d4b64-fb8b-4a48-9afc-ad9208b78496",
   "metadata": {},
   "source": [
    "**Loading the ROUGE and BERTScore metrics using Hugging Face’s evaluate package.**"
   ]
  },
  {
   "cell_type": "code",
   "execution_count": 3,
   "id": "f27bec3f-dab5-468f-a2e3-56f0d99c13c6",
   "metadata": {},
   "outputs": [],
   "source": [
    "rouge = evaluate.load(\"rouge\")\n",
    "bertscore = evaluate.load(\"bertscore\")"
   ]
  },
  {
   "cell_type": "markdown",
   "id": "c6c0c54d-0b74-4984-8718-482c915eea59",
   "metadata": {},
   "source": [
    "**Defining a function to load a model and tokenizer from a given checkpoint path.**"
   ]
  },
  {
   "cell_type": "code",
   "execution_count": 5,
   "id": "3e64cfb5-87a6-43b8-a0cd-5591bd27c941",
   "metadata": {},
   "outputs": [],
   "source": [
    "def load_model_and_tokenizer(model_path):\n",
    "    tokenizer = AutoTokenizer.from_pretrained(model_path)\n",
    "    model = AutoModelForSeq2SeqLM.from_pretrained(model_path)\n",
    "    return model, tokenizer"
   ]
  },
  {
   "cell_type": "markdown",
   "id": "4f9d9368-261c-4332-b2be-21fdf6171e95",
   "metadata": {},
   "source": [
    "**Defining a function to generate summaries using the model, applying truncation and decoding the output tokens.**"
   ]
  },
  {
   "cell_type": "code",
   "execution_count": 7,
   "id": "781b395d-7be2-4aa6-828d-f34eb27c0ec0",
   "metadata": {},
   "outputs": [],
   "source": [
    "def generate_summaries(model, tokenizer, dataset, max_input_len=512, max_target_len=128):\n",
    "    model.eval()\n",
    "    summaries = []\n",
    "    for item in tqdm(dataset):\n",
    "        input_ids = tokenizer(item[\"input_text\"], return_tensors=\"pt\", truncation=True, max_length=max_input_len).input_ids\n",
    "        output_ids = model.generate(input_ids=input_ids, max_new_tokens=max_target_len)[0]\n",
    "        summary = tokenizer.decode(output_ids, skip_special_tokens=True)\n",
    "        summaries.append(summary)\n",
    "    return summaries"
   ]
  },
  {
   "cell_type": "markdown",
   "id": "fbee49d2-0fc7-4b6a-aab3-116b2a97356c",
   "metadata": {},
   "source": [
    "**Defining a function to calculate ROUGE scores between generated and reference summaries.**"
   ]
  },
  {
   "cell_type": "code",
   "execution_count": 9,
   "id": "ac91e04b-fbf8-4675-8575-69803a8ef102",
   "metadata": {},
   "outputs": [],
   "source": [
    "def compute_rouge(predictions, references):\n",
    "    return rouge.compute(predictions=predictions, references=references, use_stemmer=True)"
   ]
  },
  {
   "cell_type": "markdown",
   "id": "6de6cd91-c2bc-4437-ba7e-f9229146a06e",
   "metadata": {},
   "source": [
    "**Defining a function to compute BERTScore (precision, recall, F1) for evaluating semantic similarity.**"
   ]
  },
  {
   "cell_type": "code",
   "execution_count": 11,
   "id": "4c27e499-3337-432b-a42d-38757424a442",
   "metadata": {},
   "outputs": [],
   "source": [
    "def compute_bertscore(predictions, references):\n",
    "    results = bertscore.compute(predictions=predictions, references=references, lang=\"en\")\n",
    "    return {\n",
    "        \"bertscore_precision\": round(sum(results[\"precision\"]) / len(results[\"precision\"]) * 100, 2),\n",
    "        \"bertscore_recall\": round(sum(results[\"recall\"]) / len(results[\"recall\"]) * 100, 2),\n",
    "        \"bertscore_f1\": round(sum(results[\"f1\"]) / len(results[\"f1\"]) * 100, 2),\n",
    "    }"
   ]
  },
  {
   "cell_type": "markdown",
   "id": "b4b02c34-8f3a-4679-a188-64ee06d49240",
   "metadata": {},
   "source": [
    "**Defining a function to compute the average token length of predicted and reference summaries.**"
   ]
  },
  {
   "cell_type": "code",
   "execution_count": 13,
   "id": "c258cd13-38b6-4344-8af3-9e5a64ad7a3e",
   "metadata": {},
   "outputs": [],
   "source": [
    "def get_length_metrics(predictions, references):\n",
    "    pred_lens = [len(p.split()) for p in predictions]\n",
    "    ref_lens = [len(r.split()) for r in references]\n",
    "    return {\n",
    "        \"avg_pred_len\": round(sum(pred_lens) / len(pred_lens), 2),\n",
    "        \"avg_ref_len\": round(sum(ref_lens) / len(ref_lens), 2),\n",
    "    }"
   ]
  },
  {
   "cell_type": "markdown",
   "id": "ad77e823-489b-45f2-a69a-70b0d63c0735",
   "metadata": {},
   "source": [
    "**Defining a function that loads a model checkpoint, generates summaries, computes all evaluation metrics, and returns a dictionary of results.**"
   ]
  },
  {
   "cell_type": "code",
   "execution_count": 15,
   "id": "b227f806-19b3-48e4-9669-f3effef3200e",
   "metadata": {},
   "outputs": [],
   "source": [
    "def evaluate_model_from_checkpoint(checkpoint_path, test_dataset):\n",
    "    model, tokenizer = load_model_and_tokenizer(checkpoint_path)\n",
    "\n",
    "    input_texts = tokenizer.batch_decode(test_dataset[\"input_ids\"], skip_special_tokens=True)\n",
    "    reference_summaries = tokenizer.batch_decode(test_dataset[\"labels\"], skip_special_tokens=True)\n",
    "\n",
    "    generated_summaries = generate_summaries(model, tokenizer, [{\"input_text\": t} for t in input_texts])\n",
    "    \n",
    "    scores = compute_rouge(generated_summaries, reference_summaries)\n",
    "    scores = {k: round(v * 100, 2) for k, v in scores.items()}\n",
    "\n",
    "    scores.update(compute_bertscore(generated_summaries, reference_summaries))\n",
    "    scores.update(get_length_metrics(generated_summaries, reference_summaries))\n",
    "    \n",
    "    return scores"
   ]
  },
  {
   "cell_type": "markdown",
   "id": "5a3e9325-97e6-406d-ba2e-a5ac36228630",
   "metadata": {},
   "source": [
    "**Evaluating multiple model checkpoints, storing results in a DataFrame, and displaying the results.**"
   ]
  },
  {
   "cell_type": "code",
   "execution_count": 17,
   "id": "2a1da776-e04b-45ec-9b97-4b4148ea8ed5",
   "metadata": {},
   "outputs": [
    {
     "name": "stdout",
     "output_type": "stream",
     "text": [
      "Evaluating checkpoint-3500...\n"
     ]
    },
    {
     "name": "stderr",
     "output_type": "stream",
     "text": [
      "100%|█████████████████████████████████████| 1500/1500 [1:58:11<00:00,  4.73s/it]\n"
     ]
    },
    {
     "data": {
      "application/vnd.jupyter.widget-view+json": {
       "model_id": "47a98b68f62442478add828b2fa25d2e",
       "version_major": 2,
       "version_minor": 0
      },
      "text/plain": [
       "tokenizer_config.json:   0%|          | 0.00/25.0 [00:00<?, ?B/s]"
      ]
     },
     "metadata": {},
     "output_type": "display_data"
    },
    {
     "data": {
      "application/vnd.jupyter.widget-view+json": {
       "model_id": "eaaed0cec2a44d229543ed69d7d72058",
       "version_major": 2,
       "version_minor": 0
      },
      "text/plain": [
       "config.json:   0%|          | 0.00/482 [00:00<?, ?B/s]"
      ]
     },
     "metadata": {},
     "output_type": "display_data"
    },
    {
     "data": {
      "application/vnd.jupyter.widget-view+json": {
       "model_id": "892d65a6dad14e229dc403b7570a2621",
       "version_major": 2,
       "version_minor": 0
      },
      "text/plain": [
       "vocab.json:   0%|          | 0.00/899k [00:00<?, ?B/s]"
      ]
     },
     "metadata": {},
     "output_type": "display_data"
    },
    {
     "data": {
      "application/vnd.jupyter.widget-view+json": {
       "model_id": "36c8853c2b5a4f59a66a0f87d98f5d22",
       "version_major": 2,
       "version_minor": 0
      },
      "text/plain": [
       "merges.txt:   0%|          | 0.00/456k [00:00<?, ?B/s]"
      ]
     },
     "metadata": {},
     "output_type": "display_data"
    },
    {
     "data": {
      "application/vnd.jupyter.widget-view+json": {
       "model_id": "425042343667478d86e386f8d819c3d7",
       "version_major": 2,
       "version_minor": 0
      },
      "text/plain": [
       "tokenizer.json:   0%|          | 0.00/1.36M [00:00<?, ?B/s]"
      ]
     },
     "metadata": {},
     "output_type": "display_data"
    },
    {
     "data": {
      "application/vnd.jupyter.widget-view+json": {
       "model_id": "9ab0c280e4ae47cda44ffcfa0b75b1ff",
       "version_major": 2,
       "version_minor": 0
      },
      "text/plain": [
       "model.safetensors:   0%|          | 0.00/1.42G [00:00<?, ?B/s]"
      ]
     },
     "metadata": {},
     "output_type": "display_data"
    },
    {
     "name": "stderr",
     "output_type": "stream",
     "text": [
      "Some weights of RobertaModel were not initialized from the model checkpoint at roberta-large and are newly initialized: ['roberta.pooler.dense.bias', 'roberta.pooler.dense.weight']\n",
      "You should probably TRAIN this model on a down-stream task to be able to use it for predictions and inference.\n"
     ]
    },
    {
     "name": "stdout",
     "output_type": "stream",
     "text": [
      "Evaluating checkpoint-7000...\n"
     ]
    },
    {
     "name": "stderr",
     "output_type": "stream",
     "text": [
      "100%|█████████████████████████████████████| 1500/1500 [1:51:19<00:00,  4.45s/it]\n"
     ]
    },
    {
     "name": "stdout",
     "output_type": "stream",
     "text": [
      "Evaluating checkpoint-10500...\n"
     ]
    },
    {
     "name": "stderr",
     "output_type": "stream",
     "text": [
      "100%|█████████████████████████████████████| 1500/1500 [1:50:41<00:00,  4.43s/it]\n"
     ]
    },
    {
     "data": {
      "text/html": [
       "<div>\n",
       "<style scoped>\n",
       "    .dataframe tbody tr th:only-of-type {\n",
       "        vertical-align: middle;\n",
       "    }\n",
       "\n",
       "    .dataframe tbody tr th {\n",
       "        vertical-align: top;\n",
       "    }\n",
       "\n",
       "    .dataframe thead th {\n",
       "        text-align: right;\n",
       "    }\n",
       "</style>\n",
       "<table border=\"1\" class=\"dataframe\">\n",
       "  <thead>\n",
       "    <tr style=\"text-align: right;\">\n",
       "      <th></th>\n",
       "      <th>rouge1</th>\n",
       "      <th>rouge2</th>\n",
       "      <th>rougeL</th>\n",
       "      <th>rougeLsum</th>\n",
       "      <th>bertscore_precision</th>\n",
       "      <th>bertscore_recall</th>\n",
       "      <th>bertscore_f1</th>\n",
       "      <th>avg_pred_len</th>\n",
       "      <th>avg_ref_len</th>\n",
       "    </tr>\n",
       "  </thead>\n",
       "  <tbody>\n",
       "    <tr>\n",
       "      <th>checkpoint-3500</th>\n",
       "      <td>35.03</td>\n",
       "      <td>14.42</td>\n",
       "      <td>22.72</td>\n",
       "      <td>32.62</td>\n",
       "      <td>85.72</td>\n",
       "      <td>88.78</td>\n",
       "      <td>87.21</td>\n",
       "      <td>99.01</td>\n",
       "      <td>51.71</td>\n",
       "    </tr>\n",
       "    <tr>\n",
       "      <th>checkpoint-7000</th>\n",
       "      <td>35.58</td>\n",
       "      <td>14.89</td>\n",
       "      <td>23.15</td>\n",
       "      <td>33.11</td>\n",
       "      <td>85.76</td>\n",
       "      <td>88.94</td>\n",
       "      <td>87.31</td>\n",
       "      <td>98.12</td>\n",
       "      <td>51.71</td>\n",
       "    </tr>\n",
       "    <tr>\n",
       "      <th>checkpoint-10500</th>\n",
       "      <td>36.14</td>\n",
       "      <td>15.33</td>\n",
       "      <td>23.71</td>\n",
       "      <td>33.72</td>\n",
       "      <td>85.76</td>\n",
       "      <td>88.92</td>\n",
       "      <td>87.30</td>\n",
       "      <td>94.11</td>\n",
       "      <td>51.71</td>\n",
       "    </tr>\n",
       "  </tbody>\n",
       "</table>\n",
       "</div>"
      ],
      "text/plain": [
       "                  rouge1  rouge2  rougeL  rougeLsum  bertscore_precision  \\\n",
       "checkpoint-3500    35.03   14.42   22.72      32.62                85.72   \n",
       "checkpoint-7000    35.58   14.89   23.15      33.11                85.76   \n",
       "checkpoint-10500   36.14   15.33   23.71      33.72                85.76   \n",
       "\n",
       "                  bertscore_recall  bertscore_f1  avg_pred_len  avg_ref_len  \n",
       "checkpoint-3500              88.78         87.21         99.01        51.71  \n",
       "checkpoint-7000              88.94         87.31         98.12        51.71  \n",
       "checkpoint-10500             88.92         87.30         94.11        51.71  "
      ]
     },
     "metadata": {},
     "output_type": "display_data"
    }
   ],
   "source": [
    "checkpoint_dirs = [\n",
    "    \"../outputs/model/checkpoint-3500\",\n",
    "    \"../outputs/model/checkpoint-7000\",\n",
    "    \"../outputs/model/checkpoint-10500\",\n",
    "]\n",
    "\n",
    "test_dataset = load_from_disk(\"../data/test\")\n",
    "\n",
    "results = {}\n",
    "for ckpt in checkpoint_dirs:\n",
    "    name = os.path.basename(ckpt)\n",
    "    print(f\"Evaluating {name}...\")\n",
    "    scores = evaluate_model_from_checkpoint(ckpt, test_dataset)\n",
    "    results[name] = scores\n",
    "\n",
    "results_df = pd.DataFrame(results).T\n",
    "display(results_df)"
   ]
  },
  {
   "cell_type": "markdown",
   "id": "5de3091f-70bc-4455-817c-1e214697ab34",
   "metadata": {},
   "source": [
    "**Plotting a grouped bar chart comparing ROUGE and BERTScore metrics for each evaluated checkpoint.**"
   ]
  },
  {
   "cell_type": "code",
   "execution_count": 18,
   "id": "fa00839f-d2ac-4eb0-846a-d3010e48ef72",
   "metadata": {},
   "outputs": [
    {
     "data": {
      "image/png": "[encoded data removed]",
      "text/plain": [
       "<Figure size 1000x600 with 1 Axes>"
      ]
     },
     "metadata": {},
     "output_type": "display_data"
    }
   ],
   "source": [
    "results_df[[\"rouge1\", \"rouge2\", \"rougeL\", \"bertscore_f1\"]].plot(kind=\"bar\", figsize=(10,6))\n",
    "plt.title(\"ROUGE & BERTScore (F1) by Checkpoint\")\n",
    "plt.ylabel(\"Score (%)\")\n",
    "plt.xticks(rotation=45)\n",
    "plt.grid(True)\n",
    "plt.tight_layout()\n",
    "plt.show()"
   ]
  },
  {
   "cell_type": "markdown",
   "id": "40a336fd-c1c6-4f0b-9971-8b10eb506f07",
   "metadata": {},
   "source": [
    "**Plotting a comparison of predicted vs reference summary lengths to evaluate verbosity or truncation issues.**"
   ]
  },
  {
   "cell_type": "code",
   "execution_count": 19,
   "id": "34b9bd9c-f72f-412d-aacd-74864fafc7fa",
   "metadata": {},
   "outputs": [
    {
     "data": {
      "image/png": "[encoded data removed]",
      "text/plain": [
       "<Figure size 800x500 with 1 Axes>"
      ]
     },
     "metadata": {},
     "output_type": "display_data"
    }
   ],
   "source": [
    "results_df[[\"avg_pred_len\", \"avg_ref_len\"]].plot(kind=\"bar\", figsize=(8,5))\n",
    "plt.title(\"Average Summary Lengths: Prediction vs Reference\")\n",
    "plt.ylabel(\"Words\")\n",
    "plt.xticks(rotation=45)\n",
    "plt.grid(True)\n",
    "plt.tight_layout()\n",
    "plt.show()"
   ]
  }
 ],
 "metadata": {
  "kernelspec": {
   "display_name": "Python 3 (ipykernel)",
   "language": "python",
   "name": "python3"
  },
  "language_info": {
   "codemirror_mode": {
    "name": "ipython",
    "version": 3
   },
   "file_extension": ".py",
   "mimetype": "text/x-python",
   "name": "python",
   "nbconvert_exporter": "python",
   "pygments_lexer": "ipython3",
   "version": "3.12.2"
  }
 },
 "nbformat": 4,
 "nbformat_minor": 5
}
